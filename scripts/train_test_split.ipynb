{
 "cells": [
  {
   "cell_type": "code",
   "execution_count": 1,
   "metadata": {},
   "outputs": [],
   "source": [
    "import os, random\n",
    "import os\n",
    "from random import randint\n",
    "import shutil\n",
    "import random"
   ]
  },
  {
   "cell_type": "code",
   "execution_count": 2,
   "metadata": {},
   "outputs": [],
   "source": [
    "mypath = \"/scratch/as3ek/image_colorization/data/unsplash_cropped_resized/\"\n",
    "train_path = \"/scratch/as3ek/image_colorization/data/unsplash_cropped_resized/train/\"\n",
    "test_path = \"/scratch/as3ek/image_colorization/data/unsplash_cropped_resized/test/\""
   ]
  },
  {
   "cell_type": "code",
   "execution_count": 8,
   "metadata": {},
   "outputs": [],
   "source": [
    "folders = os.listdir(mypath)\n",
    "for folder in folders:\n",
    "    files = os.listdir(mypath + '/' + folder)\n",
    "    for file in files:\n",
    "        if randint(0, 10) < 8:\n",
    "            to_path = train_path\n",
    "            \n",
    "        else:\n",
    "            to_path = test_path\n",
    "            \n",
    "        directory = to_path + folder + '/'\n",
    "        if not os.path.exists(directory):\n",
    "            os.makedirs(directory)\n",
    "        frm = mypath + folder + '/' + file\n",
    "        to = to_path + folder + '/' + file\n",
    "        \n",
    "#         print(frm, to)\n",
    "        shutil.move(frm, to)    "
   ]
  },
  {
   "cell_type": "code",
   "execution_count": 5,
   "metadata": {},
   "outputs": [
    {
     "data": {
      "text/plain": [
       "['people']"
      ]
     },
     "execution_count": 5,
     "metadata": {},
     "output_type": "execute_result"
    }
   ],
   "source": [
    "folders"
   ]
  },
  {
   "cell_type": "code",
   "execution_count": 6,
   "metadata": {},
   "outputs": [
    {
     "data": {
      "text/plain": [
       "9"
      ]
     },
     "execution_count": 6,
     "metadata": {},
     "output_type": "execute_result"
    }
   ],
   "source": [
    "randint(0, 10)"
   ]
  },
  {
   "cell_type": "code",
   "execution_count": null,
   "metadata": {},
   "outputs": [],
   "source": []
  }
 ],
 "metadata": {
  "kernelspec": {
   "display_name": "Python 3",
   "language": "python",
   "name": "python3"
  },
  "language_info": {
   "codemirror_mode": {
    "name": "ipython",
    "version": 3
   },
   "file_extension": ".py",
   "mimetype": "text/x-python",
   "name": "python",
   "nbconvert_exporter": "python",
   "pygments_lexer": "ipython3",
   "version": "3.6.6"
  }
 },
 "nbformat": 4,
 "nbformat_minor": 2
}
